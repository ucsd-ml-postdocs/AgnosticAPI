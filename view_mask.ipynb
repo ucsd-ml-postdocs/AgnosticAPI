{
 "cells": [
  {
   "cell_type": "code",
   "execution_count": null,
   "id": "3ea10c28",
   "metadata": {},
   "outputs": [],
   "source": [
    "import numpy as np\n",
    "import matplotlib.pyplot as plt\n",
    "import os\n",
    "import glob\n",
    "\n",
    "from matplotlib.colors import Normalize"
   ]
  },
  {
   "cell_type": "code",
   "execution_count": null,
   "id": "3d71081c",
   "metadata": {},
   "outputs": [],
   "source": [
    "mask = np.load('app/client/Predictions/mask.npy')\n",
    "unique_values = np.unique(mask)\n",
    "print(unique_values)"
   ]
  },
  {
   "cell_type": "code",
   "execution_count": null,
   "id": "9894c27a",
   "metadata": {},
   "outputs": [],
   "source": [
    "\n",
    "frames = mask.shape[2]\n",
    "print(frames)\n",
    "cmap = plt.cm.get_cmap('viridis')  # You can choose any colormap you prefer\n",
    "norm = Normalize(vmin=unique_values[0], vmax=unique_values[-1])  # Assuming your values range from 0 to 9\n",
    "\n",
    "increment = 10\n",
    "for i in range(int(frames / increment)):\n",
    "    print('Frame ' + str(i))\n",
    "    \n",
    "    frame = mask[:,:,i*increment]\n",
    "    print(np.unique(frame))\n",
    "    plt.imshow(frame, cmap=cmap, norm=norm)\n",
    "    plt.colorbar()  # Add a colorbar to the plot for reference\n",
    "    plt.show()"
   ]
  }
 ],
 "metadata": {
  "kernelspec": {
   "display_name": "Python 3 (ipykernel)",
   "language": "python",
   "name": "python3"
  },
  "language_info": {
   "codemirror_mode": {
    "name": "ipython",
    "version": 3
   },
   "file_extension": ".py",
   "mimetype": "text/x-python",
   "name": "python",
   "nbconvert_exporter": "python",
   "pygments_lexer": "ipython3",
   "version": "3.8.19"
  }
 },
 "nbformat": 4,
 "nbformat_minor": 5
}
